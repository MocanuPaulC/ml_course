{
 "cells": [
  {
   "cell_type": "code",
   "execution_count": null,
   "id": "initial_id",
   "metadata": {
    "collapsed": true
   },
   "outputs": [],
   "source": [
    ""
   ]
  },
  {
   "metadata": {},
   "cell_type": "markdown",
   "source": [
    "# TODO list of models:\n",
    "- [ ] KNN\n",
    "- [ ] Decision Tree\n",
    "- [ ] Random Forest\n",
    "- [ ] Naive Bayes\n",
    "- [ ] XGBoost\n",
    "- [ ] LightGBM\n",
    "- [ ] CatBoost\n",
    "- [ ] Logistic Regression\n",
    "- [ ] SVM\n",
    "- [ ] Neural Network\n",
    "- [ ] LSTM\n"
   ],
   "id": "c19e3ecc75c23bed"
  },
  {
   "metadata": {},
   "cell_type": "code",
   "outputs": [],
   "execution_count": null,
   "source": "",
   "id": "b811eb90fef0e744"
  }
 ],
 "metadata": {
  "kernelspec": {
   "display_name": "Python 3",
   "language": "python",
   "name": "python3"
  },
  "language_info": {
   "codemirror_mode": {
    "name": "ipython",
    "version": 2
   },
   "file_extension": ".py",
   "mimetype": "text/x-python",
   "name": "python",
   "nbconvert_exporter": "python",
   "pygments_lexer": "ipython2",
   "version": "2.7.6"
  }
 },
 "nbformat": 4,
 "nbformat_minor": 5
}
